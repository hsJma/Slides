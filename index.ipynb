{
 "cells": [
  {
   "cell_type": "markdown",
   "metadata": {
    "slideshow": {
     "slide_type": "slide"
    }
   },
   "source": [
    "# 檢定概念 (1/2)\n",
    "\n",
    "### Hsin-Chieh Ma"
   ]
  },
  {
   "cell_type": "markdown",
   "metadata": {
    "slideshow": {
     "slide_type": "slide"
    }
   },
   "source": [
    "## Statistical hypothesis 統計假設\n",
    "\n",
    "- 對未知參數 $\\theta$ 的推論"
   ]
  },
  {
   "cell_type": "markdown",
   "metadata": {
    "slideshow": {
     "slide_type": "subslide"
    }
   },
   "source": [
    "### Simple hypothesis: \n",
    "- 明確指出 $\\theta$ 的值\n",
    "- $H: \\theta=\\theta_0$\n",
    "\n",
    "### Composite hypothesis:\n",
    "- $H: \\theta<\\theta_0$\n",
    "- $H: \\theta \\geq \\theta_0$\n",
    "- $H: \\theta_1 \\leq \\theta \\leq \\theta_2$"
   ]
  },
  {
   "cell_type": "markdown",
   "metadata": {
    "slideshow": {
     "slide_type": "slide"
    }
   },
   "source": [
    "### Null hypothesis 虛無假設 $H_0$\n",
    "- 傾向保守\n",
    "- 要有很強的證據顯示它不對才會拒絕 $H_0$\n",
    "- 要有很強的證據顯示它不對才會拒絕 $H_0$\n",
    "- 要有很強的證據顯示它不對才會拒絕 $H_0$\n",
    "\n",
    "### Alternative hypothesis 對立假設 $H_1$\n",
    "- 真正關心的事情\n",
    "- 例如：新藥、新產品"
   ]
  },
  {
   "cell_type": "markdown",
   "metadata": {
    "slideshow": {
     "slide_type": "subslide"
    }
   },
   "source": [
    "- FDA 要核准新藥需證明藥效比原本的好很多\n",
    "- $H_0$：新藥藥效沒有比較好\n",
    "- $H_1$：新藥藥效比較好"
   ]
  },
  {
   "cell_type": "markdown",
   "metadata": {},
   "source": [
    "- 法官判案\n",
    "- $H_0$：無罪\n",
    "- 要有很強的證據顯示有罪才會判有罪"
   ]
  },
  {
   "cell_type": "markdown",
   "metadata": {
    "slideshow": {
     "slide_type": "slide"
    }
   },
   "source": [
    "- 設定好 hypothesis 之後，我們需要做實驗\n",
    "- 產生隨機樣本，定義一個 test"
   ]
  },
  {
   "cell_type": "markdown",
   "metadata": {
    "slideshow": {
     "slide_type": "slide"
    }
   },
   "source": [
    "## Test 檢定方法\n",
    "\n",
    "- 決定是否拒絕虛無假設 ($H_0$) 的規則，決定何時會拒絕 (或不拒絕) $H_0$"
   ]
  },
  {
   "cell_type": "markdown",
   "metadata": {
    "slideshow": {
     "slide_type": "fragment"
    }
   },
   "source": [
    "- 一個 test 會指明一個隨機樣本的樣本空間中的一個 subset $C$ (critical region)\n",
    "- test 跟 $C$ 是一體兩面，一個 test 就會對應到一個 $C$"
   ]
  },
  {
   "cell_type": "markdown",
   "metadata": {
    "slideshow": {
     "slide_type": "fragment"
    }
   },
   "source": [
    "- 如果觀察到的 $(x_1, x_2,..., x_n) \\in C$，就拒絕 $H_0$\n",
    "- 如果觀察到的 $(x_1, x_2,..., x_n) \\notin C$，就不要拒絕 $H_0$"
   ]
  },
  {
   "cell_type": "markdown",
   "metadata": {
    "slideshow": {
     "slide_type": "subslide"
    }
   },
   "source": [
    "## 樣本空間\n",
    "\n",
    "- $X \\sim N(\\mu, \\sigma^2)\\ \\ \\rightarrow \\ X \\in R$\n",
    "- $X \\sim Po(\\lambda)\\ \\ \\rightarrow \\ X \\in \\lbrace 0, 1, \\dots \\rbrace$\n",
    "- $X \\sim bin(p)\\ \\ \\rightarrow \\ X \\in \\lbrace 0, 1, \\dots \\rbrace$"
   ]
  },
  {
   "cell_type": "markdown",
   "metadata": {
    "slideshow": {
     "slide_type": "slide"
    }
   },
   "source": [
    "- 對任何 test 而言，都有兩種 error\n",
    "- 不可能讓兩種錯誤都低，除非 $n$ 趨近於無窮\n",
    "\n",
    "### Type I error: \n",
    "- $H_0$ is true but we reject $H_0$\n",
    "- 嚴重！！！\n",
    "\n",
    "### Type II error:\n",
    "- $H_1$ is true but we do not reject $H_0$.\n",
    "- 該拒不拒"
   ]
  },
  {
   "cell_type": "markdown",
   "metadata": {
    "slideshow": {
     "slide_type": "slide"
    }
   },
   "source": [
    "## Power function $\\pi_c(\\theta)$\n",
    "- Critical region $C$ 的 power function $\\pi_c(\\theta)$ ：當 $\\theta$ 為真時拒絕 $H_0$ 的機率\n",
    "- 當 $H_0$ 是對的，希望 $\\pi_c(\\theta)$ 很小\n",
    "- 當 $H_1$ 是對的，希望 $1 - \\pi_c(\\theta)$ 很小"
   ]
  },
  {
   "cell_type": "markdown",
   "metadata": {
    "slideshow": {
     "slide_type": "subslide"
    }
   },
   "source": [
    "Let $X_1, X_2,..., X_n$ be a random sample and we consider a test with critical region $C$. The power function is\n",
    "\n",
    "$$\\eqalign{\\pi_c(\\theta) &= P(\\ reject\\ H_0: \\theta\\ is\\ true)\\\\\n",
    "                         &= P(\\ \\pmatrix{\\ X_1\\cr \\vdots \\cr X_n } \\in C: \\theta\\ is\\ true)\\\\\n",
    "                         &= \\int\\int\\dotsi\\int f(x_1, x_2,\\dots, x_n, \\theta)\\ dx_1dx_2\\dots dx_n}$$\n"
   ]
  },
  {
   "cell_type": "markdown",
   "metadata": {
    "slideshow": {
     "slide_type": "slide"
    }
   },
   "source": [
    "### 例子\n",
    "- 經過教育改革數年後，我們想要知道在某種特定考試評量上，學生是否表現得比之前好\n",
    "- $X$ 是表示學生成績的隨機變數，$X$ ~ $N(\\ \\mu, 100)$\n",
    "- 過去經驗顯示，$\\mu = 75$\n",
    "- $H_0: \\mu \\leq 75$\n",
    "- $H_1: \\mu \\gt 75$\n",
    "- 假設我們從 $N(\\mu, 100)$ 中獲得一組隨機樣本 $X_1, X_2, \\dots, X_{25}$\n",
    "- 考慮以下兩種 critical region $C$（一般來說我們需自己找 $C$）\n",
    "- $\\bar X > 75$、$\\bar X > 78$"
   ]
  },
  {
   "cell_type": "markdown",
   "metadata": {
    "slideshow": {
     "slide_type": "slide"
    }
   },
   "source": [
    "### Critical region 1\n",
    "$$C_1 = \\lbrace\\ \\bar X: \\bar X \\gt 75 \\rbrace \n",
    "      = \\lbrace\\ \\pmatrix{X_1 \\cr \\vdots \\cr X_{25}}: \\frac{1}{25} \\sum_{i=1}^{25} \\ X_i \\gt 75 \\rbrace \\subset R^{25}$$\n",
    "      \n",
    "The power function is \n",
    "$$\\eqalign{\\pi_{c_1}(\\mu) = P\\ (\\ \\bar X \\gt 75: \\mu) \n",
    "            &= P\\ (\\frac{\\bar X - \\mu}{2} \\gt \\frac{75 - \\mu}{2}) \\\\\n",
    "            &= P\\ (Z > \\frac{75 - \\mu}{2}) \\\\\n",
    "            &= 1 - P\\ (Z \\leq \\frac{75 - \\mu}{2})}$$"
   ]
  },
  {
   "cell_type": "markdown",
   "metadata": {},
   "source": [
    "$$X \\sim N(\\mu, 100)$$\n",
    "$$\\bar X \\sim N(\\mu, \\frac{100}{n}) = N(\\mu, \\frac{100}{25}=4)$$\n",
    "$$\\frac{\\bar X - \\mu}{\\sigma} = \\frac{\\bar X - \\mu}{2} \\sim N(0, 1)$$"
   ]
  },
  {
   "cell_type": "markdown",
   "metadata": {
    "slideshow": {
     "slide_type": "subslide"
    }
   },
   "source": [
    "$$\\eqalign{\\pi_{C_1}(75) &= 0.5\\\\\n",
    "           \\pi_{C_1}(77) &= 0.841\\\\\n",
    "           \\pi_{C_1}(79) &= 0.977}$$\n",
    "\n",
    "- 當 $\\mu$ 是 75 時，$H_0$ is true，但我們拒絕 $H_0$ 的機率卻有50%！！"
   ]
  },
  {
   "cell_type": "code",
   "execution_count": 1,
   "metadata": {
    "slideshow": {
     "slide_type": "skip"
    }
   },
   "outputs": [],
   "source": [
    "import matplotlib.pyplot as plt\n",
    "import numpy as np\n",
    "from scipy.stats import norm\n",
    "from ipywidgets import *"
   ]
  },
  {
   "cell_type": "code",
   "execution_count": 33,
   "metadata": {
    "slideshow": {
     "slide_type": "subslide"
    }
   },
   "outputs": [
    {
     "data": {
      "image/png": "[encoded data removed]",
      "text/plain": [
       "<matplotlib.figure.Figure at 0x7f9194c9efd0>"
      ]
     },
     "metadata": {},
     "output_type": "display_data"
    }
   ],
   "source": [
    "%matplotlib inline\n",
    "x = np.linspace(70, 80, 1000)\n",
    "y = 1 - norm.cdf((75 - x)/2)\n",
    "plt.plot(x, y)\n",
    "plt.title(r'power function for $C_1$, $C_1 = \\lbrace \\bar X: \\bar X > 75 \\rbrace$')\n",
    "plt.xlabel('$\\mu$')\n",
    "plt.ylabel('$\\pi_{C_1}(\\mu)$')\n",
    "plt.axvline(x=75, color='r')\n",
    "plt.ylim((0, 1))\n",
    "plt.show()"
   ]
  },
  {
   "cell_type": "markdown",
   "metadata": {
    "slideshow": {
     "slide_type": "slide"
    }
   },
   "source": [
    "### Critical region 2\n",
    "$$C_1 = \\lbrace\\ \\bar X: \\bar X \\gt 78 \\rbrace \n",
    "      = \\lbrace\\ \\pmatrix{X_1 \\cr \\vdots \\cr X_{25}}: \\frac{1}{25} \\sum_{i=1}^{25} \\ X_i \\gt 78 \\rbrace \\subset R^{25}$$\n",
    "\n",
    "The power function is \n",
    "\n",
    "$$\\eqalign{\\pi_{c_1}(\\mu) = P\\ (\\ \\bar X \\gt 78: \\mu) \n",
    "            &= P\\ (\\frac{\\bar X - \\mu}{2} \\gt \\frac{78 - \\mu}{2}) \\\\\n",
    "            &= P\\ (Z > \\frac{78 - \\mu}{2}) \\\\\n",
    "            &= 1 - P\\ (Z \\leq \\frac{78 - \\mu}{2})}$$\n",
    "\n",
    "$\\pi_{C_2}(75) = 0.067$\n",
    "\n",
    "- 當 $\\mu$ 是 75 時，$H_0$ is true，我們拒絕 $H_0$ 的機率只有 0.067，跟 $C_1$ 比起來合理許多。"
   ]
  },
  {
   "cell_type": "code",
   "execution_count": 17,
   "metadata": {
    "slideshow": {
     "slide_type": "subslide"
    }
   },
   "outputs": [
    {
     "data": {
      "image/png": "[encoded data removed]",
      "text/plain": [
       "<matplotlib.figure.Figure at 0x7f91963b01d0>"
      ]
     },
     "metadata": {},
     "output_type": "display_data"
    }
   ],
   "source": [
    "%matplotlib inline\n",
    "x = np.linspace(70, 80, 1000)\n",
    "y = 1 - norm.cdf((78 - x)/2)\n",
    "plt.plot(x, y)\n",
    "plt.title(r'power function for $C_1$, $C_1 = \\lbrace \\bar X: \\bar X > 78 \\rbrace$')\n",
    "plt.xlabel('$\\mu$')\n",
    "plt.ylabel('$\\pi_{C_1}(\\mu)$')\n",
    "plt.axvline(x=75, color='r')\n",
    "plt.ylim((0, 1))\n",
    "plt.show()"
   ]
  },
  {
   "cell_type": "markdown",
   "metadata": {
    "slideshow": {
     "slide_type": "slide"
    }
   },
   "source": [
    "## Size of a test with critical region $C$\n",
    "\n",
    "- Maximum probability of Type I error\n",
    "\n",
    "- Size of $C_1$ = $max_{\\mu \\leq 75} \\pi_{C_1}(\\mu)$ = 0.5 \n",
    "- Size of $C_2$ = $max_{\\mu \\leq 75} \\pi_{C_2}(\\mu)$ = 0.067\n",
    "\n",
    "- 一般而言，找 critical region 的法則在於先固定一個 significant level $\\alpha$，然後在所有 size $\\alpha$ 的 test 中找 type II error 最小的。"
   ]
  },
  {
   "cell_type": "code",
   "execution_count": 13,
   "metadata": {
    "slideshow": {
     "slide_type": "skip"
    }
   },
   "outputs": [
    {
     "data": {
      "application/vnd.jupyter.widget-view+json": {
       "model_id": "aa05c24a783246b2b2039085bc76e8c5",
       "version_major": 2,
       "version_minor": 0
      },
      "text/plain": [
       "interactive(children=(IntSlider(value=75, description='cut', max=80, min=70), Output()), _dom_classes=('widget…"
      ]
     },
     "metadata": {},
     "output_type": "display_data"
    },
    {
     "data": {
      "text/plain": [
       "<function __main__.f>"
      ]
     },
     "execution_count": 13,
     "metadata": {},
     "output_type": "execute_result"
    }
   ],
   "source": [
    "x = np.linspace(70, 80, 1000)\n",
    "\n",
    "def f(cut):\n",
    "    y = 1 - norm.cdf((cut - x)/2)\n",
    "    plt.xlabel('$\\mu$')\n",
    "    plt.ylabel(r'$\\pi_{C_1}(\\mu)$')\n",
    "    plt.ylim((0, 1))\n",
    "    plt.axvline(x=75, color='r')\n",
    "    plt.plot(x, y)\n",
    "\n",
    "interact(f, cut=(70, 80))"
   ]
  },
  {
   "cell_type": "code",
   "execution_count": null,
   "metadata": {},
   "outputs": [],
   "source": []
  }
 ],
 "metadata": {
  "kernelspec": {
   "display_name": "Python 3",
   "language": "python",
   "name": "python3"
  },
  "language_info": {
   "codemirror_mode": {
    "name": "ipython",
    "version": 3
   },
   "file_extension": ".py",
   "mimetype": "text/x-python",
   "name": "python",
   "nbconvert_exporter": "python",
   "pygments_lexer": "ipython3",
   "version": "3.6.4"
  }
 },
 "nbformat": 4,
 "nbformat_minor": 2
}
